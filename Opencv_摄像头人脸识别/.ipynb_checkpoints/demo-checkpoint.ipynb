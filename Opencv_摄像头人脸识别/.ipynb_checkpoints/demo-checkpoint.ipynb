{
 "cells": [
  {
   "cell_type": "code",
   "execution_count": 1,
   "id": "81318b2d",
   "metadata": {},
   "outputs": [],
   "source": [
    "import cv2"
   ]
  },
  {
   "cell_type": "code",
   "execution_count": 1,
   "id": "d5afac77",
   "metadata": {},
   "outputs": [],
   "source": [
    "# 图片中人脸识别\n",
    "def Face_Detect_Pic(image):\n",
    "    # 转为灰度图\n",
    "    gray = cv2.cvtColor(image, cv2.COLOR_RGB2GRAY)\n",
    "    cv2.imshow(\"gray\", gray)\n",
    "    # 训练一组人脸\n",
    "    face_detector = cv2.CascadeClassifier(\"./haarcascade_frontalface_alt.xml\")\n",
    "    # 3、检测人脸（用灰度图检测，返回人脸矩形坐标(4个角)）\n",
    "    face_rect = face_detector.detectMultiScale(gray, 1.05, 7)\n",
    "    # 灰度图  图像尺寸缩小比例  至少检测次数（若为3，表示一个目标至少检测到3次才是真正目标）\n",
    "    # 遍历每个脸，画出矩形框\n",
    "    dst = image.copy()\n",
    "    for x, y, w, h in face_rect:\n",
    "        cv2.rectangle(dst, (x, y), (x+w, y+h), (0, 255, 0), 3)#画出矩形框\n",
    "    # 显示\n",
    "    cv2.imshow(\"dst\", dst)\n",
    "    return dst"
   ]
  },
  {
   "cell_type": "code",
   "execution_count": 10,
   "id": "d1a79558",
   "metadata": {},
   "outputs": [],
   "source": [
    "# 摄像头中人脸识别\n",
    "def Face_Detect_Cam():\n",
    "    # 打开摄像头\n",
    "    capture = cv2.VideoCapture(0)   #0：本地摄像头    1：外接摄像头\n",
    "    \n",
    "    while True:\n",
    "        # 按帧读取视频\n",
    "        ret, frame = capture.read()#frame为每一帧的图像\n",
    "        # 2、左右翻转（否则向左右移动的时候，对象右左移动，反着移）\n",
    "        frame = cv2.flip(frame, 1)\n",
    "        # 2、左右翻转（否则向左右移动的时候，对象右左移动，反着移）\n",
    "        result = Face_Detect_Pic(frame)\n",
    "        # q键退出（设置读帧间隔时间）\n",
    "        if cv2.waitKey(1) & 0XFF == ord(\"q\"):\n",
    "            break"
   ]
  },
  {
   "cell_type": "code",
   "execution_count": 11,
   "id": "117ec627",
   "metadata": {},
   "outputs": [],
   "source": [
    "\n",
    "if __name__ == \"__main__\":\n",
    "    # 读取图片\n",
    "    img = cv2.imread(\"./image.jpg\")\n",
    "    cv2.imshow(\"img\", img)\n",
    " \n",
    "    Face_Detect_Pic(img)        #人脸识别（图片）\n",
    "    Face_Detect_Cam()           #人脸识别（视频）\n",
    " \n",
    "    cv2.waitKey(0)"
   ]
  },
  {
   "cell_type": "code",
   "execution_count": null,
   "id": "02ded014",
   "metadata": {},
   "outputs": [],
   "source": []
  }
 ],
 "metadata": {
  "kernelspec": {
   "display_name": "Python 3",
   "language": "python",
   "name": "python3"
  },
  "language_info": {
   "codemirror_mode": {
    "name": "ipython",
    "version": 3
   },
   "file_extension": ".py",
   "mimetype": "text/x-python",
   "name": "python",
   "nbconvert_exporter": "python",
   "pygments_lexer": "ipython3",
   "version": "3.6.8"
  }
 },
 "nbformat": 4,
 "nbformat_minor": 5
}
